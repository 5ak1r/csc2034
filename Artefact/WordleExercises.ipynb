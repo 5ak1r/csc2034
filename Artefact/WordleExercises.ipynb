{
 "cells": [
  {
   "attachments": {},
   "cell_type": "markdown",
   "metadata": {},
   "source": [
    "# Modelling the Word Game Wordle\n",
    "\n",
    "The following notebook was created by Ken Pierce. The intention here give some practice in identifying and including pre-conditions, post-conditions, and data invariants using assertions in Python. These are fundamental concepts in creation of formal models, and the use of Python assertions allows us to explore them in a familiar setting.\n",
    "\n",
    "## Wordle\n",
    "\n",
    "Wordle is a word game created by Josh Wardle (https://twitter.com/powerlanguish); it is now owned and published by the New York Times: https://www.nytimes.com/games/wordle/index.html. The instructions for Wordle are as follows:\n",
    "\n",
    "* Guess the WORDLE in 6 tries.\n",
    "* Each guess must be a valid 5 letter word. \n",
    "* The color of the tiles will change to show how close your guess was to the word.\n",
    "* A green letter shows it is in the correct position.\n",
    "* A yellow letter shows it is in the word but in the wrong position.\n",
    "* A grey letter shows that it is not in the word in any position.\n",
    "\n",
    "## Building Models\n",
    "\n",
    "There is no right or wrong way to construct a programme (or formal specification) from natural language specifications. We need to consider the purpose, which guides the abstraction decisions. The steps however can be broadly broken down as:\n",
    "\n",
    "1. Analyse the functional behaviour from the requirements\n",
    "2. Extract a list of possible data types (often from nouns) and functions (often from actions)\n",
    "3. Create a dictionary by giving explanations to items in the list\n",
    "4. Sketch out data types\n",
    "5. Sketch out functions\n",
    "6. Refine and add restrictions\n",
    "7. Review and refine\n",
    "\n",
    "The following will guide us through these steps to define a Wordle game.\n",
    "\n",
    "## Functional Behaviour and Data Types\n",
    "\n",
    "From the description above, we can identify the key elements of the instructions to understand the functionality and suggest data types:\n",
    "\n",
    "* There’s a secret **wordle**\n",
    "    - It has **five** letters (we can infer this though it is not explicit)\n",
    "    - The player loses after **six** tries\n",
    "* The player can make a **guess**\n",
    "    - Guess must be **five** letters\n",
    "    - Guess must be **valid** (= real word?)\n",
    "* The game should output for each letter in a guess:\n",
    "    - If the letter is in the **correct position**\n",
    "    - If the letter in the **wrong position** (but in the word)\n",
    "    - If the letter is **not in the word**"
   ]
  },
  {
   "attachments": {},
   "cell_type": "markdown",
   "metadata": {},
   "source": [
    "# The Programme\n",
    "\n",
    "## Setup\n",
    "\n",
    "Here, we simply include some imports for the later, as well as download a list of valid 5-letter words. Note, if the download  does not work, you can simply define a list of custom list of 5-letter strings, i.e. `WORDS = [\"HELLO\", ...]`."
   ]
  },
  {
   "cell_type": "code",
   "execution_count": 7,
   "metadata": {},
   "outputs": [],
   "source": [
    "from dataclasses import dataclass   # for defining dataclasses\n",
    "from enum import Enum               # for defining enumerations\n",
    "import typing                       # for type hinting\n",
    "import random                       # for selecting a random answer\n",
    "from typing import List             # for defining custom typed lists\n",
    "from urllib.request import urlopen  # to load web data\n",
    "\n",
    "# grab a list of words\n",
    "url = 'https://raw.githubusercontent.com/tabatkins/wordle-list/main/words'\n",
    "WORDS = [word.rstrip().decode('UTF-8').upper() for word in urlopen(url).readlines()]\n",
    "\n"
   ]
  },
  {
   "attachments": {},
   "cell_type": "markdown",
   "metadata": {},
   "source": [
    "## Data Types and Contants\n",
    "\n",
    "Next, we can define some simple data types, and constants that we will need to use, based on the above analysis. Here we define:\n",
    "\n",
    "* The length of a valid word.\n",
    "* The maximum number of guesses.\n",
    "* A `Word` type as an alias of `str`\n",
    "* An enumeration of the three types of clue (i.e. colours)\n",
    "* An enumeration for the game state, either in play, won, or lost."
   ]
  },
  {
   "cell_type": "code",
   "execution_count": 8,
   "metadata": {},
   "outputs": [],
   "source": [
    "# constants\n",
    "WORD_LENGTH = 5 \n",
    "MAX_GUESSES = 6\n",
    "\n",
    "# define Word as an alias for string\n",
    "Word = str\n",
    "\n",
    "# type enumerating the three possible clue colours\n",
    "Clue = Enum('Clue', ['GREEN', 'YELLOW', 'GREY'])\n",
    "\n",
    "# type enumerating the state of the game\n",
    "Gamestate =  Enum('Gamestate', ['WON', 'LOST', 'PLAYING'])"
   ]
  },
  {
   "attachments": {},
   "cell_type": "markdown",
   "metadata": {},
   "source": [
    "## Guess\n",
    "\n",
    "We can now introduce a `Guess` type, which represents a guess after it is processed by the game (i.e. one line of the output). We use the `dataclass' decorator and properties to simplify definition. This includes the word that was guessed, and the clues.\n",
    "\n",
    "1. There are two invariants to add to the `setter` functions; what are these? Complete the assertions and include an appropriate message for when they fail. These should restrict the values that `word` and `clues` can take. \n",
    "2. Create some test values for `Guess` to demonstrate the invariants, i.e.  `g1 = Guess(\"HELLO\", [Clue.YELLOW, ...])`."
   ]
  },
  {
   "cell_type": "code",
   "execution_count": 9,
   "metadata": {},
   "outputs": [],
   "source": [
    "@dataclass\n",
    "class Guess:\n",
    "    \"\"\"\n",
    "    A class to represent a guess in Wordle, which is a Word \n",
    "    plus a clue for each letter.\n",
    "    \"\"\"\n",
    "    word: Word\n",
    "    clues: List[Clue]\n",
    "\n",
    "    @property\n",
    "    def word(self) -> Word:\n",
    "        return self._word\n",
    "\n",
    "    @word.setter\n",
    "    def word(self, word: Word):\n",
    "        # invariant\n",
    "        assert len(word) == WORD_LENGTH, \\\n",
    "            f\"Invariant violated: len(Guess.word) <> {WORD_LENGTH}\"  \n",
    "        self._word = word\n",
    "\n",
    "    @property\n",
    "    def clues(self) -> List[Clue]:\n",
    "        return self._clues\n",
    "\n",
    "    @clues.setter\n",
    "    def clues(self, clues: Clue):\n",
    "        # invariant\n",
    "        assert len(clues) == WORD_LENGTH, \\\n",
    "            f\"Invariant violated: len(Guess.clues) <> {WORD_LENGTH}\"              \n",
    "        self._clues = clues\n",
    "\n",
    "    def __repr__(self):\n",
    "        \"\"\"\n",
    "        Custom representation for pretty printing.\n",
    "        \"\"\"\n",
    "        cluestr = [str(self.word[i]) + \": \" + \\\n",
    "            self.clues[i].name for i in range(WORD_LENGTH)]\n",
    "        return f\"{self.word}: {cluestr}\"       \n"
   ]
  },
  {
   "attachments": {},
   "cell_type": "markdown",
   "metadata": {},
   "source": [
    "# Auxiliary Functions\n",
    "\n",
    "There are multiple ways to specify the game. The suggestion here is to have a main class `Game` that includes the state and top-level functions including `make_guess`. To help define those, we define two auxiliary functions:\n",
    "\n",
    "* `check_letter`: Compute clue given a character, its position, and word\n",
    "* `check_guess`: Compute clues given a word and the answer\n",
    "\n",
    "## check_letter \n",
    "\n",
    "This function computes the clue (colour) for a given letter, given a word and the index of the letter in the word. We will start with a naïve implementation:\n",
    "\n",
    "* If it's in the right place, return green (i.e. `Clue.GREEN`)\n",
    "* If it’s not there, return grey\n",
    "* Otherwise, return yellow.\n",
    "\n",
    "Complete the function in the following way:\n",
    "\n",
    "3. What pre-conditions should be included? These should restrict the parameters. Add these and an appropriate message. \n",
    "4. Complete the implementation based on the sketch above.\n",
    "5. Include some test cases to check your implementation, e.g. `print(check_letter(\"S\", 0, \"STOUT\"))`."
   ]
  },
  {
   "cell_type": "code",
   "execution_count": 10,
   "metadata": {},
   "outputs": [],
   "source": [
    "def check_letter(letter: str, index: int, word: Word) -> Clue:\n",
    "    \"\"\"\n",
    "    Given a letter and an index, computes the colour of the blue\n",
    "    based on the word.\n",
    "    \"\"\"\n",
    "    # pre-condition\n",
    "    assert 0 <= index < WORD_LENGTH and \\\n",
    "           len(word) == WORD_LENGTH, \"pre-check_letter failed.\"\n",
    "           \n",
    "    if word[index] == letter: return Clue.GREEN  \n",
    "    elif letter not in word: return Clue.GREY\n",
    "    else: return Clue.YELLOW"
   ]
  },
  {
   "attachments": {},
   "cell_type": "markdown",
   "metadata": {},
   "source": [
    "## Check Guess\n",
    "\n",
    "Given a word and the correct answer, this function computes the list of clues. This can be achieved by declaring a local variable, and for each letter in the guess, use `check_letter`; we can use `enumerate(guess)` to get the index.\n",
    "\n",
    "6. What pre-conditions should be included? These should restrict the parameters. Add these and an appropriate message. \n",
    "7. Complete the implementation based on the sketch above.\n",
    "8. Include some test cases to check your implementation, e.g. `print(check_guess(\"STAND\", \"STOUT\"))`."
   ]
  },
  {
   "cell_type": "code",
   "execution_count": 14,
   "metadata": {},
   "outputs": [
    {
     "name": "stdout",
     "output_type": "stream",
     "text": [
      "[<Clue.GREEN: 1>, <Clue.GREEN: 1>, <Clue.GREY: 3>, <Clue.GREY: 3>, <Clue.YELLOW: 2>]\n"
     ]
    }
   ],
   "source": [
    "\n",
    "def check_guess(word: Word, guess: Word) -> List[Clue]:\n",
    "    \"\"\"\n",
    "    Given the answer and a guess, compute the list of \n",
    "    clues corresponding to each letter.\n",
    "    \"\"\"\n",
    "    # pre-condition\n",
    "    assert len(word) == WORD_LENGTH and \\\n",
    "           len(guess) == WORD_LENGTH, \"pre-check_guess failed\"\n",
    "           \n",
    "    clues = []\n",
    "    for i,letter in enumerate(guess):\n",
    "        clue = check_letter(letter, i ,word)\n",
    "        clues.append(clue)\n",
    "    return clues\n",
    "\n",
    "print(check_guess(\"STAND\", \"STOUT\"))"
   ]
  },
  {
   "attachments": {},
   "cell_type": "markdown",
   "metadata": {},
   "source": [
    "# Game State and Top-level Functionality"
   ]
  },
  {
   "attachments": {},
   "cell_type": "markdown",
   "metadata": {},
   "source": [
    "Here we define a `Game` class; the state is the current wordle (`answer`), the guesses made so far, and the state of the game (playing, won, or lost). Functionlity is included to print a message to the player about the game, and to rest the game when it is over.\n",
    "\n",
    "## make_guess\n",
    "\n",
    "The top-level function is `make_guesss` which takes a single word as a parameter. This function should use `check_guesss` to compute the guess and store it in `guesses`; it should then update the game state by checking if the game has been won (the word is exactly the same as the answer), or lost (the player reached the maximum number of guesses).\n",
    "\n",
    "9. What pre-conditions should be included? These should restrict the parameters and the game state in which a guess is made (e.g. the player should not be able to guess if the game finished). Add these and an appropriate message.\n",
    "10. Complete the implementation based on the sketch above, and play a game! You can alternate `game.make_guess(...)` and `game.print_state()` to play.\n",
    "\n",
    "Note, can you spot the problem with the naïve implementation of `check_letter`?"
   ]
  },
  {
   "cell_type": "code",
   "execution_count": 15,
   "metadata": {},
   "outputs": [
    {
     "name": "stdout",
     "output_type": "stream",
     "text": [
      "Guess the wordle, you have 6 guesses remaining.\n"
     ]
    }
   ],
   "source": [
    "\n",
    "class Game:\n",
    "    answer: Word\n",
    "    guesses: List[Guess]\n",
    "    gstate: Gamestate\n",
    "\n",
    "    def __init__(self, answer=\"STOUT\"):\n",
    "        \"\"\"\n",
    "        Constructor for game.\n",
    "        \"\"\"\n",
    "        self.answer = answer\n",
    "        self.guesses = []\n",
    "        self.gstate = Gamestate.PLAYING\n",
    "\n",
    "    def make_guess(self, word: Word):\n",
    "        \"\"\"\n",
    "        Make a guess at the wordle.\n",
    "        \"\"\"\n",
    "        # make guesses uppercase\n",
    "        word = word.upper() \n",
    "\n",
    "        # pre-condition\n",
    "        assert self.gstate == Gamestate.PLAYING and \\\n",
    "               len(self.guesses) < MAX_GUESSES and \\\n",
    "               word in WORDS, \"pre-guess failed.\"\n",
    "               \n",
    "        self.guesses.append(Guess(word, check_guess(self.answer, word)))\n",
    "        if word == self.answer: self.gstate = Gamestate.WON\n",
    "        elif len(self.guesses) == MAX_GUESSES: self.gstate = Gamestate.LOST\n",
    "\n",
    "    def print_state(self):\n",
    "        \"\"\"\n",
    "        Prints a message to the user based on the current state of the game.\n",
    "        \"\"\"\n",
    "        for guess in self.guesses: print(guess)\n",
    "        if self.gstate == Gamestate.WON: print(f\"You won! You took {len(self.guesses)} guesses.\")\n",
    "        elif self.gstate == Gamestate.LOST: print(f\"You lost! The answer was: {self.answer}.\")\n",
    "        else: print(f\"Guess the wordle, you have {MAX_GUESSES - len(self.guesses)} guesses remaining.\")\n",
    "\n",
    "    def game_over(self) -> bool:\n",
    "        \"\"\"\n",
    "        Yields true if the game is over (won or lost), false otherwise.\n",
    "        \"\"\"\n",
    "        return self.gstate == Gamestate.WON or self.gstate == Gamestate.LOST \n",
    "\n",
    "    def reset(self):\n",
    "        \"\"\"\n",
    "        Reset the game by picking a new word, clearing the guess, and\n",
    "        setting the state back to playing.\n",
    "        \"\"\"\n",
    "        # pre-condition\n",
    "        assert self.game_over(), \"Cannot reset, game in play\"\n",
    "        self.answer = random.choice(WORDS)\n",
    "        self.guesses = []\n",
    "        self.gstate = Gamestate.PLAYING\n",
    "   \n",
    "game = Game()\n",
    "game.print_state()\n",
    "game.make_guess(\"stand\")\n"
   ]
  },
  {
   "cell_type": "markdown",
   "metadata": {},
   "source": [
    "# Changes Below"
   ]
  },
  {
   "cell_type": "markdown",
   "metadata": {},
   "source": [
    "## Hint\n",
    "\n",
    "Now that the base rules and basic gameplay have been established, we can continue to enhance the gameplay experience by providing the player with a hint - if they choose to receive one. As we are given that hint must be a single character between [A-Z], I will make the hint simply reveal a letter they have not tried yet that is currently in the word.\n"
   ]
  },
  {
   "cell_type": "code",
   "execution_count": 42,
   "metadata": {},
   "outputs": [
    {
     "ename": "AssertionError",
     "evalue": "pre-hint failed.",
     "output_type": "error",
     "traceback": [
      "\u001b[1;31m---------------------------------------------------------------------------\u001b[0m",
      "\u001b[1;31mAssertionError\u001b[0m                            Traceback (most recent call last)",
      "Cell \u001b[1;32mIn[42], line 26\u001b[0m\n\u001b[0;32m     22\u001b[0m     \u001b[38;5;28;01massert\u001b[39;00m re\u001b[38;5;241m.\u001b[39mmatch(\u001b[38;5;124m'\u001b[39m\u001b[38;5;124m^[A-Z]$\u001b[39m\u001b[38;5;124m'\u001b[39m, hint)\n\u001b[0;32m     24\u001b[0m     \u001b[38;5;28;01mreturn\u001b[39;00m hint\n\u001b[1;32m---> 26\u001b[0m \u001b[38;5;28mprint\u001b[39m(\u001b[43mhint\u001b[49m\u001b[43m(\u001b[49m\u001b[43mgame\u001b[49m\u001b[38;5;241;43m.\u001b[39;49m\u001b[43mguesses\u001b[49m\u001b[43m,\u001b[49m\u001b[43m \u001b[49m\u001b[43mgame\u001b[49m\u001b[38;5;241;43m.\u001b[39;49m\u001b[43manswer\u001b[49m\u001b[43m)\u001b[49m)\n",
      "Cell \u001b[1;32mIn[42], line 8\u001b[0m, in \u001b[0;36mhint\u001b[1;34m(guesses, answer)\u001b[0m\n\u001b[0;32m      5\u001b[0m \u001b[38;5;28;01mdef\u001b[39;00m \u001b[38;5;21mhint\u001b[39m(guesses: List[Guess], answer: Word) \u001b[38;5;241m-\u001b[39m\u001b[38;5;241m>\u001b[39m Hint:\n\u001b[0;32m      6\u001b[0m     \u001b[38;5;66;03m#.word and .clues\u001b[39;00m\n\u001b[1;32m----> 8\u001b[0m     \u001b[38;5;28;01massert\u001b[39;00m re\u001b[38;5;241m.\u001b[39mmatch(\u001b[38;5;124mf\u001b[39m\u001b[38;5;124m'\u001b[39m\u001b[38;5;124m^[A-Z]\u001b[39m\u001b[38;5;132;01m{\u001b[39;00mWORD_LENGTH\u001b[38;5;132;01m}\u001b[39;00m\u001b[38;5;124m$\u001b[39m\u001b[38;5;124m'\u001b[39m, answer) \u001b[38;5;129;01mand\u001b[39;00m \\\n\u001b[0;32m      9\u001b[0m         game\u001b[38;5;241m.\u001b[39mgstate \u001b[38;5;241m==\u001b[39m Gamestate\u001b[38;5;241m.\u001b[39mPLAYING \u001b[38;5;129;01mand\u001b[39;00m \\\n\u001b[0;32m     10\u001b[0m         answer \u001b[38;5;129;01min\u001b[39;00m WORDS \u001b[38;5;129;01mand\u001b[39;00m \\\n\u001b[0;32m     11\u001b[0m         \u001b[38;5;28mlen\u001b[39m(guesses) \u001b[38;5;241m<\u001b[39m MAX_GUESSES, \u001b[38;5;124m\"\u001b[39m\u001b[38;5;124mpre-hint failed.\u001b[39m\u001b[38;5;124m\"\u001b[39m\n\u001b[0;32m     13\u001b[0m     greens \u001b[38;5;241m=\u001b[39m \u001b[38;5;28mlist\u001b[39m(\u001b[38;5;28mrange\u001b[39m(\u001b[38;5;241m0\u001b[39m, WORD_LENGTH))\n\u001b[0;32m     15\u001b[0m     \u001b[38;5;28;01mfor\u001b[39;00m i \u001b[38;5;129;01min\u001b[39;00m guesses:\n",
      "\u001b[1;31mAssertionError\u001b[0m: pre-hint failed."
     ]
    }
   ],
   "source": [
    "import re\n",
    "\n",
    "Hint = str\n",
    "\n",
    "def hint(guesses: List[Guess], answer: Word) -> Hint:\n",
    "    #.word and .clues\n",
    "\n",
    "    assert re.match('^[A-Z]{%d}$' % WORD_LENGTH, answer) and \\\n",
    "        game.gstate == Gamestate.PLAYING and \\\n",
    "        answer in WORDS and \\\n",
    "        len(guesses) < MAX_GUESSES, \"pre-hint failed.\"\n",
    "    \n",
    "    greens = list(range(0, WORD_LENGTH))\n",
    "\n",
    "    for i in guesses:\n",
    "        for j in range(0, WORD_LENGTH):\n",
    "            if i.clues[j] == Clue.GREEN:\n",
    "                greens.remove(j)\n",
    "    \n",
    "    hint = answer[random.choice(greens)]\n",
    "\n",
    "    assert re.match('^[A-Z]$', hint)\n",
    "\n",
    "    return hint\n",
    "\n",
    "print(hint(game.guesses, game.answer))"
   ]
  },
  {
   "cell_type": "markdown",
   "metadata": {},
   "source": [
    "## Testing\n",
    "\n",
    "This section shows all the tests that have been made for each of the methods that require it, with all possible scenarios accounted for. The adjacent comment will describe the expected output of the test."
   ]
  },
  {
   "cell_type": "markdown",
   "metadata": {},
   "source": [
    "### Guess"
   ]
  },
  {
   "cell_type": "code",
   "execution_count": 35,
   "metadata": {},
   "outputs": [
    {
     "name": "stdout",
     "output_type": "stream",
     "text": [
      "HELLO: ['H: YELLOW', 'E: YELLOW', 'L: GREY', 'L: GREEN', 'O: YELLOW']\n"
     ]
    },
    {
     "ename": "AssertionError",
     "evalue": "Invariant violated: len(Guess.word) <> 5",
     "output_type": "error",
     "traceback": [
      "\u001b[1;31m---------------------------------------------------------------------------\u001b[0m",
      "\u001b[1;31mAssertionError\u001b[0m                            Traceback (most recent call last)",
      "Cell \u001b[1;32mIn[35], line 3\u001b[0m\n\u001b[0;32m      1\u001b[0m g1 \u001b[38;5;241m=\u001b[39m Guess(\u001b[38;5;124m\"\u001b[39m\u001b[38;5;124mHELLO\u001b[39m\u001b[38;5;124m\"\u001b[39m, [Clue\u001b[38;5;241m.\u001b[39mYELLOW, Clue\u001b[38;5;241m.\u001b[39mYELLOW, Clue\u001b[38;5;241m.\u001b[39mGREY, Clue\u001b[38;5;241m.\u001b[39mGREEN, Clue\u001b[38;5;241m.\u001b[39mYELLOW]) \u001b[38;5;66;03m# Success\u001b[39;00m\n\u001b[0;32m      2\u001b[0m \u001b[38;5;28mprint\u001b[39m(g1)\n\u001b[1;32m----> 3\u001b[0m g2 \u001b[38;5;241m=\u001b[39m \u001b[43mGuess\u001b[49m\u001b[43m(\u001b[49m\u001b[38;5;124;43m\"\u001b[39;49m\u001b[38;5;124;43mHELL\u001b[39;49m\u001b[38;5;124;43m\"\u001b[39;49m\u001b[43m,\u001b[49m\u001b[43m \u001b[49m\u001b[43m[\u001b[49m\u001b[43mClue\u001b[49m\u001b[38;5;241;43m.\u001b[39;49m\u001b[43mYELLOW\u001b[49m\u001b[43m,\u001b[49m\u001b[43m \u001b[49m\u001b[43mClue\u001b[49m\u001b[38;5;241;43m.\u001b[39;49m\u001b[43mYELLOW\u001b[49m\u001b[43m,\u001b[49m\u001b[43m \u001b[49m\u001b[43mClue\u001b[49m\u001b[38;5;241;43m.\u001b[39;49m\u001b[43mGREY\u001b[49m\u001b[43m,\u001b[49m\u001b[43m \u001b[49m\u001b[43mClue\u001b[49m\u001b[38;5;241;43m.\u001b[39;49m\u001b[43mGREEN\u001b[49m\u001b[43m,\u001b[49m\u001b[43m \u001b[49m\u001b[43mClue\u001b[49m\u001b[38;5;241;43m.\u001b[39;49m\u001b[43mYELLOW\u001b[49m\u001b[43m]\u001b[49m\u001b[43m)\u001b[49m \u001b[38;5;66;03m# Assertion Error\u001b[39;00m\n\u001b[0;32m      4\u001b[0m g3 \u001b[38;5;241m=\u001b[39m Guess(\u001b[38;5;124m\"\u001b[39m\u001b[38;5;124mHELLO\u001b[39m\u001b[38;5;124m\"\u001b[39m, [Clue\u001b[38;5;241m.\u001b[39mYELLOW, Clue\u001b[38;5;241m.\u001b[39mYELLOW, Clue\u001b[38;5;241m.\u001b[39mGREY, Clue\u001b[38;5;241m.\u001b[39mGREEN]) \u001b[38;5;66;03m# Assertion Error\u001b[39;00m\n",
      "File \u001b[1;32m<string>:3\u001b[0m, in \u001b[0;36m__init__\u001b[1;34m(self, word, clues)\u001b[0m\n",
      "Cell \u001b[1;32mIn[9], line 17\u001b[0m, in \u001b[0;36mGuess.word\u001b[1;34m(self, word)\u001b[0m\n\u001b[0;32m     14\u001b[0m \u001b[38;5;129m@word\u001b[39m\u001b[38;5;241m.\u001b[39msetter\n\u001b[0;32m     15\u001b[0m \u001b[38;5;28;01mdef\u001b[39;00m \u001b[38;5;21mword\u001b[39m(\u001b[38;5;28mself\u001b[39m, word: Word):\n\u001b[0;32m     16\u001b[0m     \u001b[38;5;66;03m# invariant\u001b[39;00m\n\u001b[1;32m---> 17\u001b[0m     \u001b[38;5;28;01massert\u001b[39;00m \u001b[38;5;28mlen\u001b[39m(word) \u001b[38;5;241m==\u001b[39m WORD_LENGTH, \\\n\u001b[0;32m     18\u001b[0m         \u001b[38;5;124mf\u001b[39m\u001b[38;5;124m\"\u001b[39m\u001b[38;5;124mInvariant violated: len(Guess.word) <> \u001b[39m\u001b[38;5;132;01m{\u001b[39;00mWORD_LENGTH\u001b[38;5;132;01m}\u001b[39;00m\u001b[38;5;124m\"\u001b[39m  \n\u001b[0;32m     19\u001b[0m     \u001b[38;5;28mself\u001b[39m\u001b[38;5;241m.\u001b[39m_word \u001b[38;5;241m=\u001b[39m word\n",
      "\u001b[1;31mAssertionError\u001b[0m: Invariant violated: len(Guess.word) <> 5"
     ]
    }
   ],
   "source": [
    "g1 = Guess(\"HELLO\", [Clue.YELLOW, Clue.YELLOW, Clue.GREY, Clue.GREEN, Clue.YELLOW]) # Successful Guess object creation\n",
    "print(g1) # HELLO: ['H: YELLOW', 'E: YELLOW', 'L: GREY', 'L: GREEN', 'O: YELLOW'] (using __repr__)\n",
    "\n",
    "g2 = Guess(\"HELL\", [Clue.YELLOW, Clue.YELLOW, Clue.GREY, Clue.GREEN, Clue.YELLOW]) # Assertion Error\n",
    "g3 = Guess(\"HELLO\", [Clue.YELLOW, Clue.YELLOW, Clue.GREY, Clue.GREEN]) # Assertion Error"
   ]
  },
  {
   "cell_type": "markdown",
   "metadata": {},
   "source": [
    "### check_letter"
   ]
  },
  {
   "cell_type": "code",
   "execution_count": null,
   "metadata": {},
   "outputs": [],
   "source": [
    "print(check_letter(\"S\", 0, \"STOUT\")) #Clue.GREEN\n",
    "print(check_letter(\"S\", 3, \"STOUT\")) #Clue.YELLOW\n",
    "print(check_letter(\"Z\", 0, \"STOUT\")) #Clue.GREY"
   ]
  },
  {
   "cell_type": "markdown",
   "metadata": {},
   "source": [
    "### Hint"
   ]
  },
  {
   "cell_type": "code",
   "execution_count": null,
   "metadata": {},
   "outputs": [],
   "source": [
    "    \n",
    "print(hint(game.guesses, game.answer))"
   ]
  }
 ],
 "metadata": {
  "kernelspec": {
   "display_name": "Python 3",
   "language": "python",
   "name": "python3"
  },
  "language_info": {
   "codemirror_mode": {
    "name": "ipython",
    "version": 3
   },
   "file_extension": ".py",
   "mimetype": "text/x-python",
   "name": "python",
   "nbconvert_exporter": "python",
   "pygments_lexer": "ipython3",
   "version": "3.12.2"
  },
  "orig_nbformat": 4,
  "vscode": {
   "interpreter": {
    "hash": "9650cb4e16cdd4a8e8e2d128bf38d875813998db22a3c986335f89e0cb4d7bb2"
   }
  }
 },
 "nbformat": 4,
 "nbformat_minor": 2
}
