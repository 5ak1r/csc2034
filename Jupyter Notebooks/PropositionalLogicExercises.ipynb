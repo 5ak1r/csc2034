{
 "cells": [
  {
   "attachments": {},
   "cell_type": "markdown",
   "metadata": {},
   "source": [
    "# Translating English Sentences into Propositional Logic Statements\n",
    "\n",
    "The following notebook was adapted from Peter Norvig (https://github.com/norvig/). The intention here is to remind us what Propositional Logic statements look like, how to construct them, and what the common mathematical symbols mean.\n",
    "\n",
    "## Introduction\n",
    "\n",
    "A *proposition* is a statement about the world that is either true or false. Propositions are typically represented by uppercase Latin letters; the letter P is commonly used for the first proposition in a statement, Q the second, and so on. Proposition can be cominbed with a set of basic rules:\n",
    "\n",
    "- Every propositional symbol and truth value is a sentence **P, Q**\n",
    "- The negation (not) of a sentence is a sentence: **¬P**, **¬false**\n",
    "- The conjunction (and) of two sentences is a sentence: **P ⋀ ¬Q**\n",
    "- The disjunction (or) of two sentences is a sentence: **P ⋁ ¬Q**\n",
    "- The implication (implies) of two sentences is a sentence: **P ⇒ ¬Q**\n",
    "- The equivalence of two sentences is a sentence: **P ⋁ Q ≡ R**\n",
    "\n",
    "A common exercise in learning logic is to turn an English sentence like this:\n",
    "\n",
    "> *Sieglinde will survive, and either her son will gain the Ring and Wotan’s plan will be fulfilled or else Valhalla will be destroyed.*\n",
    "\n",
    "into a formal Propositional Logic statement: \n",
    "\n",
    "    P ⋀ ((Q ⋀ R) ⋁ S)\n",
    "    \n",
    "along with definitions of the propositions:\n",
    "\n",
    "    P: Sieglinde will survive\n",
    "    Q: Sieglinde’s son will gain the Ring\n",
    "    R: Wotan’s plan will be fulfilled\n",
    "    S: Valhalla will be destroyed\n",
    "\n",
    "For some sentences, it takes detailed knowledge to get a good translation. The following two sentences are ambiguous, with different prefered interpretations, and translating them correctly requires knowledge of eating habits:\n",
    "\n",
    "    I will eat salad or I will eat bread and I will eat butter.     P ∨ (Q ⋀ R)\n",
    "    I will eat salad or I will eat soup  and I will eat ice cream. (P ∨ Q) ⋀ R\n",
    "\n",
    "But for many sentences, the translation process is automatic, with no special knowledge required. The following is programmme to handle these easy sentences. The programme is based on the idea of a series of translation rules of the form:\n",
    "\n",
    "    Rule('{P} ⇒ {Q}', 'if {P} then {Q}', 'if {P}, {Q}')\n",
    "    \n",
    "which means that the logic translation will have the form `'P ⇒ Q'`, whenever the English sentence has either the form `'if P then Q'` or  `'if P, Q'`, where `P` and `Q` can match any non-empty subsequence of characters.  Whatever matches `P` and `Q` will be recursively processed by the rules. The rules are in order&mdash;top to bottom, left to right, and the first rule that matches in that order will be accepted, no matter what, so be sure you order your rules carefully. One guideline adhered to is to put all the rules that start with a keyword (like `'if'` or `'neither'`) before the rules that start with a variable (like `'{P}'`); that way you avoid accidently having a keyword swallowed up inside a `'{P}'`.\n",
    "\n",
    "Notice that given the sentence \"*Sieglinde will survive*\", the program should make up a new propositional symbol, `P`, and record the fact that `P` refers to \"*Sieglinde will survive*\". But the negative sentence \"*Sieglinde will not survive*\", should be translated as `～P`, where again `P` is  \"*Sieglinde will survive*\". So to fully specify the translation process, we need to define both `rules` and `negations`. (We do that using [regular expressions](https://docs.python.org/3.8/library/re.html), which can sometimes be confusing.)\n",
    "\n",
    "## The Programme\n",
    "\n",
    "First the function to define a rule (and some auxiliary functions):"
   ]
  },
  {
   "cell_type": "code",
   "execution_count": null,
   "metadata": {
    "collapsed": false
   },
   "outputs": [],
   "source": [
    "import re\n",
    "\n",
    "def Rule(output, *patterns):\n",
    "    \"A rule that produces `output` if the entire input matches any one of the `patterns`.\" \n",
    "    return (output, [name_group(pat) + '$' for pat in patterns])\n",
    "\n",
    "def name_group(pat):\n",
    "    \"Replace '{Q}' with '(?P<Q>.+?)', which means 'match 1 or more characters, and call it Q'\"\n",
    "    return re.sub('{(.)}', r'(?P<\\1>.+?)', pat)\n",
    "            \n",
    "def word(w):\n",
    "    \"Return a regex that matches w as a complete word (not letters inside a word).\"\n",
    "    return r'\\b' + w + r'\\b' # '\\b' matches at word boundary"
   ]
  },
  {
   "cell_type": "markdown",
   "metadata": {},
   "source": [
    "And now the actual rules. If you have a sentence that is not translated correctly by this program, you can  augment these rules to handle your sentence."
   ]
  },
  {
   "cell_type": "code",
   "execution_count": null,
   "metadata": {
    "collapsed": false
   },
   "outputs": [],
   "source": [
    "rules = [\n",
    "    Rule('{P} ⇒ {Q}',         'if {P} then {Q}', 'if {P}, {Q}'),\n",
    "    Rule('{P} ⋁ {Q}',          'either {P} or else {Q}', 'either {P} or {Q}'),\n",
    "    Rule('{P} ⋀ {Q}',          'both {P} and {Q}'),\n",
    "    Rule('～{P} ⋀ ～{Q}',       'neither {P} nor {Q}'),\n",
    "    Rule('～{A}{P} ⋀ ～{A}{Q}', '{A} neither {P} nor {Q}'), # The Kaiser neither ...\n",
    "    Rule('～{Q} ⇒ {P}',        '{P} unless {Q}'),\n",
    "    Rule('{P} ⇒ {Q}',          '{Q} provided that {P}', '{Q} whenever {P}', '{P} implies {Q}',\n",
    "                                '{P} therefore {Q}', '{Q}, if {P}', '{Q} if {P}', '{P} only if {Q}'),\n",
    "    Rule('{P} ⋀ {Q}','{P} and {Q}', '{P} but {Q}'),\n",
    "    Rule('{P} ⋁ {Q}',          '{P} or else {Q}', '{P} or {Q}'),\n",
    "    ]\n",
    "\n",
    "negations = [\n",
    "    (word(\"not\"), \"\"),\n",
    "    (word(\"cannot\"), \"can\"),\n",
    "    (word(\"can't\"), \"can\"),\n",
    "    (word(\"won't\"), \"will\"),\n",
    "    (word(\"ain't\"), \"is\"),\n",
    "    (\"n't\", \"\"), # matches as part of a word: didn't, couldn't, etc.\n",
    "    ]"
   ]
  },
  {
   "cell_type": "markdown",
   "metadata": {},
   "source": [
    "Now the mechanism to process these rules. Note that `defs` is a dict of definitions of propositional symbols: `{P: 'english'}`. The three `match_*` functions return two values: the translation of a sentence, and a dict of defintions."
   ]
  },
  {
   "cell_type": "code",
   "execution_count": null,
   "metadata": {
    "collapsed": false
   },
   "outputs": [],
   "source": [
    "def match_rules(sentence, rules, defs):\n",
    "    \"\"\"Match sentence against all the rules, accepting the first match; or else make it an atomic proposition.\n",
    "    Return two values: the Logic translation and a dict of {P: 'english'} definitions.\"\"\"\n",
    "    sentence = clean(sentence)\n",
    "    for rule in rules:\n",
    "        result = match_rule(sentence, rule, defs)\n",
    "        if result: \n",
    "            return result\n",
    "    return match_atomic_proposition(sentence, negations, defs)\n",
    "        \n",
    "def match_rule(sentence, rule, defs):\n",
    "    \"Match a single rule, returning the logic translation and the dict of definitions if the match succeeds.\"\n",
    "    output, patterns = rule\n",
    "    for pat in patterns:\n",
    "        match = re.match(pat, sentence, flags=re.I)\n",
    "        if match:\n",
    "            groups = match.groupdict()\n",
    "            for P in sorted(groups): # Recursively apply rules to each of the matching groups\n",
    "                groups[P] = match_rules(groups[P], rules, defs)[0]\n",
    "            return '(' + output.format(**groups) + ')', defs\n",
    "        \n",
    "def match_atomic_proposition(sentence, negations, defs):\n",
    "    \"No rule matched; sentence is an atom. Add new proposition to defs. Handle negation.\"\n",
    "    polarity = ''\n",
    "    for (neg, pos) in negations:\n",
    "        (sentence, n) = re.subn(neg, pos, sentence, flags=re.I)\n",
    "        polarity += n * '～'\n",
    "    sentence = clean(sentence)\n",
    "    P = proposition_name(sentence, defs)\n",
    "    defs[P] = sentence\n",
    "    return polarity + P, defs\n",
    "    \n",
    "def proposition_name(sentence, defs, names='PQRSTUVWXYZBCDEFGHJKLMN'):\n",
    "    \"Return the old name for this sentence, if used before, or a new, unused name.\"\n",
    "    inverted = {defs[P]: P for P in defs}\n",
    "    if sentence in inverted:\n",
    "        return inverted[sentence]                      # Find previously-used name\n",
    "    else:\n",
    "        return next(P for P in names if P not in defs) # Use a new unused name\n",
    "    \n",
    "def clean(text): \n",
    "    \"Remove redundant whitespace; handle curly apostrophe and trailing comma/period.\"\n",
    "    return ' '.join(text.split()).replace(\"’\", \"'\").rstrip('.').rstrip(',')\n",
    "\n",
    "import textwrap\n",
    "\n",
    "def parse(sentence, width=106):\n",
    "    \"Match the rules against a sentence in text, and print the result.\"\n",
    "    if sentence.strip() == \"\":\n",
    "        print(\"Sentence empty.\")\n",
    "        return\n",
    "    s = clean(sentence)\n",
    "    logic, defs = match_rules(s, rules, {})\n",
    "    print(width*'_', '\\n' + textwrap.fill(s, width), '\\nLogic:', logic)\n",
    "    for P in sorted(defs):\n",
    "      print('{}: {}'.format(P, defs[P]))"
   ]
  },
  {
   "attachments": {},
   "cell_type": "markdown",
   "metadata": {},
   "source": [
    "## Preparation \n",
    "\n",
    "You must execute all the cells above for the cells below to work. You can do this one at a time, or use the \"Execute Above Cells\" button on the code cell below (hover and it appears in the top-right of the cell along with Other Actions...)."
   ]
  },
  {
   "attachments": {},
   "cell_type": "markdown",
   "metadata": {},
   "source": [
    "## Exercise 1 - Predicting Outputs\n",
    "\n",
    "The function `parse` will attempt to parse a sentence and print the output. In this exercise, a series of sentences are provided. Read each of the following sentences and note down what you expect the output to be in the comment, then run them to compare the output (uncomment the `parse` function to check the output). You can read the `Rules` defined above to help you. \n",
    "\n",
    "### a. \"Polkadots and Moonbeams\""
   ]
  },
  {
   "cell_type": "code",
   "execution_count": null,
   "metadata": {},
   "outputs": [],
   "source": [
    "# expected outcome: \n",
    "s = \"Polkadots and Moonbeams.\"\n",
    "\n",
    "#parse(s)"
   ]
  },
  {
   "attachments": {},
   "cell_type": "markdown",
   "metadata": {},
   "source": [
    "### b. \"Should I stay or should I go\""
   ]
  },
  {
   "cell_type": "code",
   "execution_count": null,
   "metadata": {},
   "outputs": [],
   "source": [
    "# expected outcome: \n",
    "s = \"Should I stay or should I go.\"\n",
    "\n",
    "#parse(s)"
   ]
  },
  {
   "attachments": {},
   "cell_type": "markdown",
   "metadata": {},
   "source": [
    "### c. \"Either Danny didn't come to the party or Virgil didn't come to the party\""
   ]
  },
  {
   "cell_type": "code",
   "execution_count": null,
   "metadata": {},
   "outputs": [],
   "source": [
    "# expected outcome: (～P ⋁ ～Q)\n",
    "s = \"Either Danny didn't come to the party or Virgil didn't come to the party.\"\n",
    "\n",
    "parse(s)"
   ]
  },
  {
   "attachments": {},
   "cell_type": "markdown",
   "metadata": {},
   "source": [
    "### d. \"If you liked it then you shoulda put a ring on it.\""
   ]
  },
  {
   "cell_type": "code",
   "execution_count": null,
   "metadata": {},
   "outputs": [],
   "source": [
    "# expected outcome: \n",
    "s = \"If you liked it then you shoulda put a ring on it.\"\n",
    "\n",
    "#parse(s)"
   ]
  },
  {
   "attachments": {},
   "cell_type": "markdown",
   "metadata": {},
   "source": [
    "### e. \"It don't mean a thing, if it ain't got that swing.\""
   ]
  },
  {
   "cell_type": "code",
   "execution_count": null,
   "metadata": {},
   "outputs": [],
   "source": [
    "# expected outcome: \n",
    "s = \"It don't mean a thing, if it ain't got that swing.\"\n",
    "\n",
    "parse(s)"
   ]
  },
  {
   "attachments": {},
   "cell_type": "markdown",
   "metadata": {},
   "source": [
    "## Exercise 2 - Forming Sentences\n",
    "\n",
    "In this exercise you are provided with a proposition and should attempt to write a sentence that generates that proposition. Note there are limitations to the script which are detailed below; these restrict the kinds of sentence you can write. You can look at the `Rules` to see what words and phrases match to the conjunctions you need. If you are having difficulty, try to build up from parts of the sentence rather than trying all at once; you can also write sentences with P, Q, etc. then replace these later."
   ]
  },
  {
   "attachments": {},
   "cell_type": "markdown",
   "metadata": {},
   "source": [
    "### a. (P ⋀ (Q ⋁ R))"
   ]
  },
  {
   "cell_type": "code",
   "execution_count": null,
   "metadata": {},
   "outputs": [],
   "source": [
    "# expected outcome: (P ⋀ (Q ⋁ R))\n",
    "s = \"\"\n",
    "\n",
    "parse(s)"
   ]
  },
  {
   "attachments": {},
   "cell_type": "markdown",
   "metadata": {},
   "source": [
    "### b. (P ⋀ (Q ⋀ (R ⋀ (S ⋀ T))))"
   ]
  },
  {
   "cell_type": "code",
   "execution_count": null,
   "metadata": {},
   "outputs": [],
   "source": [
    "# expected outcome: (P ⋀ (Q ⋀ (R ⋀ (S ⋀ T))))\n",
    "s = \"\"\n",
    "\n",
    "parse(s)"
   ]
  },
  {
   "attachments": {},
   "cell_type": "markdown",
   "metadata": {},
   "source": [
    "### c. (P ⇒ ～Q)"
   ]
  },
  {
   "cell_type": "code",
   "execution_count": null,
   "metadata": {},
   "outputs": [],
   "source": [
    "# expected outcome: (P ⇒ ～Q)\n",
    "s = \"\"\n",
    "\n",
    "parse(s)"
   ]
  },
  {
   "attachments": {},
   "cell_type": "markdown",
   "metadata": {},
   "source": [
    "### d. (～P ⋀ ～～P)"
   ]
  },
  {
   "cell_type": "code",
   "execution_count": null,
   "metadata": {},
   "outputs": [],
   "source": [
    "# expected outcome: (～P ⋀ ～～P)\n",
    "s = \"\"\n",
    "\n",
    "parse(s)"
   ]
  },
  {
   "attachments": {},
   "cell_type": "markdown",
   "metadata": {},
   "source": [
    "### e. (P ⇒ (Q ⋀ R))"
   ]
  },
  {
   "cell_type": "code",
   "execution_count": null,
   "metadata": {},
   "outputs": [],
   "source": [
    "# expected outcome: (P ⇒ (Q ⋀ R))\n",
    "s = \"\"\n",
    "\n",
    "parse(s)"
   ]
  },
  {
   "attachments": {},
   "cell_type": "markdown",
   "metadata": {},
   "source": [
    "### f. ((P ⋀ Q) ⇒ R)"
   ]
  },
  {
   "cell_type": "code",
   "execution_count": null,
   "metadata": {},
   "outputs": [],
   "source": [
    "# expected outcome: (P ⇒ (Q ⋀ R))\n",
    "s = \"\"\n",
    "\n",
    "parse(s)"
   ]
  },
  {
   "attachments": {},
   "cell_type": "markdown",
   "metadata": {},
   "source": [
    "# Exercise 3 - Extensions\n",
    "\n"
   ]
  },
  {
   "attachments": {},
   "cell_type": "markdown",
   "metadata": {},
   "source": [
    "The above propositions are simple sentences, but there are other logics that inlude features that allow us to describe more complex properties. *Predicate* or *first-order logic* (https://en.wikipedia.org/wiki/First-order_logic) is a logic allows us to define quantified variables such that the outcome is determined based on the value of the variable. A **predicate** is a sentence that contains a finite number of variables and becomes a statement when specific values are\n",
    "substituted for the variables. A classic example is:\n",
    "\n",
    "    All people are mortal.\n",
    "    Socrates is a person.\n",
    "    Therefore, Socrates is mortal.\n",
    "\n",
    "If `P` is a predicate symbol, then:\n",
    "\n",
    "    P stands for \"is mortal\"\n",
    "    P(x) stands for \"x is mortal\"\n",
    "    P(Socrates) stand for \"Socrates is mortal\"\n",
    "\n",
    "A **quantifier** is a word that refers to quantities (\"some\" or \"all\") and say how many elements of a given predcate are true. There are two quantifiers in first-order logic:\n",
    "\n",
    "- **Universal quantification**; symbol `'∀'` and read as \"for all.\" This is a general form of `'⋀'` (AND), since the property must hold for every value of the variable. A basic form would be `'∀ P x, x is Q'`, or more commonly when discussing sets, `'∀ x ∈ P, Q(x)'` (\"for all x in the set P, Q of x is true\").\n",
    "- **Existential quantification**; symbol `'∃'` and read as \"there exists.\" This is a general form of ⋁ (OR), since the property must hold for at least one value of the variable. A basic form would be `∃ P x, such that x satisfies Q` or `'∃ x ∈ P s.t. Q(x)'` (\"there exists x in the set P such that x satisfies Q\").\n",
    "\n",
    "Note that the negation of universal quantification is logically equivalent to finding a counterexample, i.e. \"there exists x in the set P such that Q of x is not true.\" An extension of existential quantification is **unique existential quantification** written as `'∃!'` stating that there is \"one an only one\" object satisfying a condition. "
   ]
  },
  {
   "attachments": {},
   "cell_type": "markdown",
   "metadata": {},
   "source": [
    "### a. \"All humans are alive\"\n",
    "\n",
    "Add a rule to parse this sentence. Note the first parameter for a `Rule` object is the \"Logic:\" output, and the remaining parameters are sentences to match. Note that due to the left-to-right matching implemented, it is not possible to parse compund predicates without further modifications."
   ]
  },
  {
   "cell_type": "code",
   "execution_count": null,
   "metadata": {},
   "outputs": [],
   "source": [
    "#r = Rule('',  '')\n",
    "#rules.append(r)\n",
    "\n",
    "s = \"All humans are alive\"\n",
    "parse(s)"
   ]
  },
  {
   "attachments": {},
   "cell_type": "markdown",
   "metadata": {},
   "source": [
    "### b. \"Every cloud has a silver lining\"\n",
    "\n",
    "Redefine your rule to include parse this phrase."
   ]
  },
  {
   "cell_type": "code",
   "execution_count": null,
   "metadata": {},
   "outputs": [],
   "source": [
    "#r = Rule('', '', '')\n",
    "#rules.append(r)\n",
    "\n",
    "s = \"Every cloud has a silver lining\"\n",
    "parse(s)"
   ]
  },
  {
   "attachments": {},
   "cell_type": "markdown",
   "metadata": {},
   "source": [
    "### c. Existential quantification\n",
    "\n",
    "Add a rule to parse a sentence matching existential quantification, and provide an example. You can use the phrase \"Some ...\" or select another word. "
   ]
  },
  {
   "cell_type": "code",
   "execution_count": null,
   "metadata": {},
   "outputs": [],
   "source": [
    "#r = Rule('',  '')\n",
    "#rules.append(r)\n",
    "\n",
    "s = \"Some foods are tasty\"\n",
    "parse(s)"
   ]
  },
  {
   "attachments": {},
   "cell_type": "markdown",
   "metadata": {},
   "source": [
    "### d. Unique existential quantification\n",
    "\n",
    "Add a rule to parse a sentence matching unique existential quantification, and provide an example. "
   ]
  },
  {
   "cell_type": "code",
   "execution_count": null,
   "metadata": {},
   "outputs": [],
   "source": [
    "#r = Rule('',  '')\n",
    "#rules.append(r)\n",
    "\n",
    "s = \"There is only one food that I like\"\n",
    "parse(s)"
   ]
  },
  {
   "attachments": {},
   "cell_type": "markdown",
   "metadata": {},
   "source": [
    "# Limitations\n",
    "\n",
    "Here are some limitations with the above implementation; there are likely to be many more:\n",
    "\n",
    "* `Should I stay` *etc.*:<br>questions are not poropositional statements.\n",
    "\n",
    "* `If I were a carpenter`:<br>doesn't handle modal logic.\n",
    "\n",
    "* `nothing is better`:<br>doesn't handle quantifiers.\n",
    "\n",
    "* `Either Wotan will triumph and Valhalla will be saved or else he won't`:<br>gets `'he will'` as one of the propositions, but better would be if that refered back to `'Wotan will triumph'`.\n",
    "\n",
    "* `Wotan will intervene and cause Siegmund's death`:<br>gets `\"cause Siegmund's death\"` as a proposition, but better would be `\"Wotan will cause Siegmund's death\"`.\n",
    "\n",
    "* `Figaro and Susanna will wed`:<br>gets `\"Figaro\"` and `\"Susanna will wed\"` as two separate propositions; this should really be one proposition. \n",
    "\n",
    "* `\"either Antonio or Figaro pays\"`:<br>gets `\"Antonio\"` as a proposition, but it should be `\"Antonio pays\"`.\n",
    "\n",
    "* `If the Kaiser neither prevents`:<br>uses the somewhat bogus propositions `PQ` and `PR`. This should be done in a cleaner way. The problem is the same as the previous problem with Antonio: I don't have a good way to attach the subject of a verb phrase to the multiple parts of the verb/object, when there are multiple parts."
   ]
  }
 ],
 "metadata": {
  "kernelspec": {
   "display_name": "Python 3",
   "language": "python",
   "name": "python3"
  },
  "language_info": {
   "codemirror_mode": {
    "name": "ipython",
    "version": 3
   },
   "file_extension": ".py",
   "mimetype": "text/x-python",
   "name": "python",
   "nbconvert_exporter": "python",
   "pygments_lexer": "ipython3",
   "version": "3.8.2"
  },
  "vscode": {
   "interpreter": {
    "hash": "9650cb4e16cdd4a8e8e2d128bf38d875813998db22a3c986335f89e0cb4d7bb2"
   }
  }
 },
 "nbformat": 4,
 "nbformat_minor": 0
}
